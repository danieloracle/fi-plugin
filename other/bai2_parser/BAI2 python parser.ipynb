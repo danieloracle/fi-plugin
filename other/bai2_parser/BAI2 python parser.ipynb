{
 "cells": [
  {
   "cell_type": "code",
   "execution_count": 7,
   "id": "1543721a",
   "metadata": {},
   "outputs": [],
   "source": [
    "# !pip install bai2\n",
    "# !pip install pyperclip"
   ]
  },
  {
   "cell_type": "markdown",
   "id": "7e6b7b4b",
   "metadata": {},
   "source": [
    "https://github.com/ministryofjustice/bai2\n",
    "\n",
    "## Model structure\n",
    "``\n",
    "Bai2File\n",
    "    Bai2FileHeader\n",
    "    Group\n",
    "        GroupHeader\n",
    "        Account\n",
    "            AccountIdentifier\n",
    "            TransactionDetail\n",
    "            AccountTrailer\n",
    "        GroupTrailer\n",
    "    Bai2FileTrailer\n",
    "``"
   ]
  },
  {
   "cell_type": "code",
   "execution_count": 14,
   "id": "9028ccaf",
   "metadata": {},
   "outputs": [],
   "source": [
    "import pyperclip as clip\n",
    "from bai2 import bai2\n",
    "from bai2 import models\n",
    "\n",
    "bai2_file = models.Bai2File()\n",
    "bai2_file.header.sender_id = 'ORACLEBANK'\n",
    "\n",
    "bai2_file.children.append(models.Group())\n",
    "\n",
    "transactions = [models.TransactionDetail(amount=100)]\n",
    "bai2_file.children[0].children.append(models.Account(children=transactions))\n",
    "\n",
    "# write to string\n",
    "output = bai2.write(bai2_file)\n",
    "\n",
    "clip.copy(f\"{output}\")"
   ]
  },
  {
   "cell_type": "code",
   "execution_count": 19,
   "id": "17446f55",
   "metadata": {},
   "outputs": [],
   "source": [
    "filepath = '/Users/daniel/workspace/oracle/oracle-github/fiplugin/fi-plugin/other/bai2_parser/bai2.txt'\n",
    "with open(filepath) as f:\n",
    "    bai2_file = bai2.parse_from_file(f)"
   ]
  },
  {
   "cell_type": "code",
   "execution_count": null,
   "id": "b04cafca",
   "metadata": {},
   "outputs": [],
   "source": []
  }
 ],
 "metadata": {
  "kernelspec": {
   "display_name": "Python 3 (ipykernel)",
   "language": "python",
   "name": "python3"
  },
  "language_info": {
   "codemirror_mode": {
    "name": "ipython",
    "version": 3
   },
   "file_extension": ".py",
   "mimetype": "text/x-python",
   "name": "python",
   "nbconvert_exporter": "python",
   "pygments_lexer": "ipython3",
   "version": "3.9.9"
  }
 },
 "nbformat": 4,
 "nbformat_minor": 5
}
