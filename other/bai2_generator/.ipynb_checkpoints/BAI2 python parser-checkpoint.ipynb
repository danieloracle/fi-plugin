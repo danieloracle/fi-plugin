{
 "cells": [
  {
   "cell_type": "code",
   "execution_count": 7,
   "id": "085b1e1b",
   "metadata": {},
   "outputs": [],
   "source": [
    "# !pip install bai2\n",
    "# !pip install pyperclip"
   ]
  },
  {
   "cell_type": "markdown",
   "id": "e77a97f9",
   "metadata": {},
   "source": [
    "https://github.com/ministryofjustice/bai2\n",
    "\n",
    "## Model structure\n",
    "``\n",
    "Bai2File\n",
    "    Bai2FileHeader\n",
    "    Group\n",
    "        GroupHeader\n",
    "        Account\n",
    "            AccountIdentifier\n",
    "            TransactionDetail\n",
    "            AccountTrailer\n",
    "        GroupTrailer\n",
    "    Bai2FileTrailer\n",
    "``"
   ]
  },
  {
   "cell_type": "code",
   "execution_count": 14,
   "id": "b0f907d5",
   "metadata": {},
   "outputs": [],
   "source": [
    "import pyperclip as clip\n",
    "from bai2 import bai2\n",
    "from bai2 import models\n",
    "\n",
    "bai2_file = models.Bai2File()\n",
    "bai2_file.header.sender_id = 'ORACLEBANK'\n",
    "\n",
    "bai2_file.children.append(models.Group())\n",
    "\n",
    "transactions = [models.TransactionDetail(amount=100)]\n",
    "bai2_file.children[0].children.append(models.Account(children=transactions))\n",
    "\n",
    "# write to string\n",
    "output = bai2.write(bai2_file)\n",
    "\n",
    "clip.copy(f\"{output}\")"
   ]
  },
  {
   "cell_type": "code",
   "execution_count": 15,
   "id": "942ca97e",
   "metadata": {},
   "outputs": [
    {
     "ename": "FileNotFoundError",
     "evalue": "[Errno 2] No such file or directory: '/Users/daniel/workspace/oracle/oracle-github/fiplugin/fi-plugin/other/bai2_parser/BAI Sample File Current Day.txt'",
     "output_type": "error",
     "traceback": [
      "\u001b[0;31m---------------------------------------------------------------------------\u001b[0m",
      "\u001b[0;31mFileNotFoundError\u001b[0m                         Traceback (most recent call last)",
      "Input \u001b[0;32mIn [15]\u001b[0m, in \u001b[0;36m<cell line: 2>\u001b[0;34m()\u001b[0m\n\u001b[1;32m      1\u001b[0m filepath \u001b[38;5;241m=\u001b[39m \u001b[38;5;124m'\u001b[39m\u001b[38;5;124m/Users/daniel/workspace/oracle/oracle-github/fiplugin/fi-plugin/other/bai2_parser/BAI Sample File Current Day.txt\u001b[39m\u001b[38;5;124m'\u001b[39m\n\u001b[0;32m----> 2\u001b[0m \u001b[38;5;28;01mwith\u001b[39;00m \u001b[38;5;28;43mopen\u001b[39;49m\u001b[43m(\u001b[49m\u001b[43mfilepath\u001b[49m\u001b[43m)\u001b[49m \u001b[38;5;28;01mas\u001b[39;00m f:\n\u001b[1;32m      3\u001b[0m     bai2_file \u001b[38;5;241m=\u001b[39m bai2\u001b[38;5;241m.\u001b[39mparse_from_file(f)\n",
      "\u001b[0;31mFileNotFoundError\u001b[0m: [Errno 2] No such file or directory: '/Users/daniel/workspace/oracle/oracle-github/fiplugin/fi-plugin/other/bai2_parser/BAI Sample File Current Day.txt'"
     ]
    }
   ],
   "source": [
    "filepath = '/Users/daniel/workspace/oracle/oracle-github/fiplugin/fi-plugin/other/bai2_parser/BAI Sample File Current Day PY.txt'\n",
    "with open(filepath) as f:\n",
    "    bai2_file = bai2.parse_from_file(f)"
   ]
  },
  {
   "cell_type": "code",
   "execution_count": null,
   "id": "deca3157",
   "metadata": {},
   "outputs": [],
   "source": []
  }
 ],
 "metadata": {
  "kernelspec": {
   "display_name": "Python 3 (ipykernel)",
   "language": "python",
   "name": "python3"
  },
  "language_info": {
   "codemirror_mode": {
    "name": "ipython",
    "version": 3
   },
   "file_extension": ".py",
   "mimetype": "text/x-python",
   "name": "python",
   "nbconvert_exporter": "python",
   "pygments_lexer": "ipython3",
   "version": "3.9.9"
  }
 },
 "nbformat": 4,
 "nbformat_minor": 5
}
